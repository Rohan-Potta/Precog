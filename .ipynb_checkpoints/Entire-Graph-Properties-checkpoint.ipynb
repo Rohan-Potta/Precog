{
 "cells": [
  {
   "cell_type": "code",
   "execution_count": 1,
   "id": "07d26e40",
   "metadata": {},
   "outputs": [
    {
     "name": "stdout",
     "output_type": "stream",
     "text": [
      "         source   target\n",
      "0       9907233  9301253\n",
      "1       9907233  9504304\n",
      "2       9907233  9505235\n",
      "3       9907233  9506257\n",
      "4       9907233  9606402\n",
      "...         ...      ...\n",
      "421573  9912461  9305269\n",
      "421574  9912461  9609445\n",
      "421575  9912461  9902379\n",
      "421576  9912461  9902403\n",
      "421577  9405397  9303299\n",
      "\n",
      "[421578 rows x 2 columns]\n"
     ]
    }
   ],
   "source": [
    "import pandas as pd\n",
    "\n",
    "# Specify the path to your dataset\n",
    "file_path = 'Cit-HepPh.txt'\n",
    "\n",
    "# Read the dataset into a DataFrame, skipping the first few comment lines\n",
    "df = pd.read_csv(file_path, delimiter='\\t', comment='#', header=None, names=['source', 'target'])\n",
    "\n",
    "# Display the DataFrame\n",
    "print(df)\n"
   ]
  },
  {
   "cell_type": "code",
   "execution_count": 2,
   "id": "0b520fc6",
   "metadata": {},
   "outputs": [
    {
     "data": {
      "text/plain": [
       "(421578, 2)"
      ]
     },
     "execution_count": 2,
     "metadata": {},
     "output_type": "execute_result"
    }
   ],
   "source": [
    "df.shape"
   ]
  },
  {
   "cell_type": "code",
   "execution_count": 3,
   "id": "9912e068",
   "metadata": {},
   "outputs": [
    {
     "name": "stdout",
     "output_type": "stream",
     "text": [
      "Number of unique nodes: 34546\n",
      "Number of edges: 421578\n"
     ]
    }
   ],
   "source": [
    "unique_nodes = pd.unique(pd.concat([df['source'], df['target']]))\n",
    "num_unique_nodes = len(unique_nodes)\n",
    "\n",
    "print(\"Number of unique nodes:\", num_unique_nodes)\n",
    "num_edges = df.shape[0]\n",
    "print(\"Number of edges:\", num_edges)"
   ]
  },
  {
   "cell_type": "code",
   "execution_count": 4,
   "id": "1aee52a5",
   "metadata": {},
   "outputs": [],
   "source": [
    "import networkx as nx\n",
    "import matplotlib.pyplot as plt\n",
    "\n",
    "G = nx.from_pandas_edgelist(df, 'source', 'target', create_using=nx.DiGraph())"
   ]
  },
  {
   "cell_type": "code",
   "execution_count": 12,
   "id": "116302b0",
   "metadata": {},
   "outputs": [
    {
     "name": "stdout",
     "output_type": "stream",
     "text": [
      "Degree Centrality: 0.000706520827862103\n"
     ]
    }
   ],
   "source": [
    "centrality = nx.degree_centrality(G)\n",
    "\n",
    "avg_centrality = sum(centrality.values()) / len(centrality)\n",
    "\n",
    "print(\"Degree Centrality:\", avg_centrality)"
   ]
  },
  {
   "cell_type": "code",
   "execution_count": 13,
   "id": "de714502",
   "metadata": {},
   "outputs": [
    {
     "name": "stdout",
     "output_type": "stream",
     "text": [
      "Graph Density: 0.00035326041393102855\n"
     ]
    }
   ],
   "source": [
    "density = nx.density(G)\n",
    "print(\"Graph Density:\", density)"
   ]
  },
  {
   "cell_type": "code",
   "execution_count": 17,
   "id": "048ea781",
   "metadata": {},
   "outputs": [
    {
     "name": "stdout",
     "output_type": "stream",
     "text": [
      "Most Connected Nodes: [9803315, 9512380, 9804398, 9407339, 9606399]\n"
     ]
    }
   ],
   "source": [
    "#top connected nodes\n",
    "\n",
    "most_connected_nodes = sorted(centrality, key=centrality.get, reverse=True)\n",
    "print(\"Most Connected Nodes:\", most_connected_nodes[:5])"
   ]
  },
  {
   "cell_type": "code",
   "execution_count": 19,
   "id": "4e5c693d",
   "metadata": {},
   "outputs": [
    {
     "name": "stdout",
     "output_type": "stream",
     "text": [
      "Node Ranks: 34546\n"
     ]
    }
   ],
   "source": [
    "# Ranks of nodes\n",
    "\n",
    "node_ranks = {node: rank + 1 for rank, node in enumerate(most_connected_nodes)}\n",
    "print(\"Node Ranks:\", node_ranks)"
   ]
  },
  {
   "cell_type": "code",
   "execution_count": 27,
   "id": "a24f08a8",
   "metadata": {},
   "outputs": [
    {
     "name": "stdout",
     "output_type": "stream",
     "text": [
      "Sorted Node Ranks :\n",
      "Node 9405397: Rank 34546\n",
      "Node 9309318: Rank 34545\n",
      "Node 111372: Rank 34544\n",
      "Node 110373: Rank 34543\n",
      "Node 9405415: Rank 34542\n"
     ]
    }
   ],
   "source": [
    "print(\"Sorted Node Ranks :\")\n",
    "\n",
    "sorted_node_ranks = sorted(node_ranks.items(), key=lambda item: item[1], reverse=True)\n",
    "for node, rank in sorted_node_ranks[:5]:\n",
    "    print(f\"Node {node}: Rank {rank}\")"
   ]
  },
  {
   "cell_type": "code",
   "execution_count": 29,
   "id": "83e28212",
   "metadata": {},
   "outputs": [
    {
     "name": "stdout",
     "output_type": "stream",
     "text": [
      "Average Degree: 24.406761998494762\n"
     ]
    }
   ],
   "source": [
    "average_degree = sum(dict(G.degree()).values()) / len(G.nodes)\n",
    "print(\"Average Degree:\", average_degree)"
   ]
  },
  {
   "cell_type": "code",
   "execution_count": 37,
   "id": "209dd5fd",
   "metadata": {},
   "outputs": [],
   "source": [
    "in_degree = dict(G.in_degree())\n",
    "out_degree = dict(G.out_degree())\n",
    "\n",
    "\n",
    "\n",
    "#printing the first 10 top in degee and out degree\n",
    "sorted_in_degree = dict(sorted(in_degree.items(), key=lambda item: item[1], reverse=True)[:10])\n",
    "sorted_out_degree = dict(sorted(out_degree.items(), key=lambda item: item[1], reverse=True)[:10])\n"
   ]
  },
  {
   "cell_type": "code",
   "execution_count": 38,
   "id": "6a26c2c6",
   "metadata": {},
   "outputs": [
    {
     "name": "stdout",
     "output_type": "stream",
     "text": [
      "Sorted In-Degree:\n",
      "Node 9803315: In-Degree 846\n",
      "Node 9804398: In-Degree 616\n",
      "Node 9407339: In-Degree 557\n",
      "Node 9512380: In-Degree 550\n",
      "Node 9606399: In-Degree 542\n",
      "Node 9807344: In-Degree 503\n",
      "Node 9306320: In-Degree 464\n",
      "Node 9905221: In-Degree 449\n",
      "Node 9408384: In-Degree 444\n",
      "Node 9507378: In-Degree 438\n",
      "\n",
      "Sorted Out-Degree:\n",
      "Node 201071: Out-Degree 411\n",
      "Node 101336: Out-Degree 376\n",
      "Node 3154: Out-Degree 322\n",
      "Node 5025: Out-Degree 282\n",
      "Node 209244: Out-Degree 278\n",
      "Node 207108: Out-Degree 278\n",
      "Node 208209: Out-Degree 263\n",
      "Node 202122: Out-Degree 255\n",
      "Node 9712301: Out-Degree 242\n",
      "Node 204031: Out-Degree 229\n"
     ]
    }
   ],
   "source": [
    "print(\"Sorted In-Degree:\")\n",
    "for node, degree in sorted_in_degree.items():\n",
    "    print(f\"Node {node}: In-Degree {degree}\")\n",
    "\n",
    "print(\"\\nSorted Out-Degree:\")\n",
    "for node, degree in sorted_out_degree.items():\n",
    "    print(f\"Node {node}: Out-Degree {degree}\")"
   ]
  },
  {
   "cell_type": "code",
   "execution_count": null,
   "id": "675e93ec",
   "metadata": {},
   "outputs": [],
   "source": []
  }
 ],
 "metadata": {
  "kernelspec": {
   "display_name": "Python 3 (ipykernel)",
   "language": "python",
   "name": "python3"
  },
  "language_info": {
   "codemirror_mode": {
    "name": "ipython",
    "version": 3
   },
   "file_extension": ".py",
   "mimetype": "text/x-python",
   "name": "python",
   "nbconvert_exporter": "python",
   "pygments_lexer": "ipython3",
   "version": "3.11.5"
  }
 },
 "nbformat": 4,
 "nbformat_minor": 5
}
