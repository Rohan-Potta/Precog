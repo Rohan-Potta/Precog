{
 "cells": [
  {
   "cell_type": "code",
   "execution_count": 1,
   "id": "52e8f84f",
   "metadata": {},
   "outputs": [],
   "source": [
    "import pandas as pd\n",
    "import numpy as np\n",
    "import random\n",
    "import networkx as nx\n",
    "from tqdm import tqdm\n",
    "import re\n",
    "import matplotlib.pyplot as plt\n",
    "\n",
    "from sklearn.linear_model import LogisticRegression\n",
    "from sklearn.metrics import classification_report, roc_auc_score\n",
    "from sklearn.model_selection import train_test_split\n",
    "from sklearn.metrics import confusion_matrix"
   ]
  },
  {
   "cell_type": "code",
   "execution_count": 3,
   "id": "8fcaa2b6",
   "metadata": {},
   "outputs": [],
   "source": [
    "df = pd.read_csv(\"data.csv\")\n",
    "G = nx.from_pandas_edgelist(df, 'source', 'target', create_using=nx.Graph())\n"
   ]
  },
  {
   "cell_type": "code",
   "execution_count": 5,
   "id": "d7d9e6d7",
   "metadata": {},
   "outputs": [
    {
     "ename": "AttributeError",
     "evalue": "module 'networkx' has no attribute 'to_numpy_matrix'",
     "output_type": "error",
     "traceback": [
      "\u001b[1;31m---------------------------------------------------------------------------\u001b[0m",
      "\u001b[1;31mAttributeError\u001b[0m                            Traceback (most recent call last)",
      "Cell \u001b[1;32mIn[5], line 5\u001b[0m\n\u001b[0;32m      2\u001b[0m unique_nodes \u001b[38;5;241m=\u001b[39m pd\u001b[38;5;241m.\u001b[39munique(pd\u001b[38;5;241m.\u001b[39mconcat([df[\u001b[38;5;124m'\u001b[39m\u001b[38;5;124msource\u001b[39m\u001b[38;5;124m'\u001b[39m], df[\u001b[38;5;124m'\u001b[39m\u001b[38;5;124mtarget\u001b[39m\u001b[38;5;124m'\u001b[39m]]))\n\u001b[0;32m      3\u001b[0m num_unique_nodes \u001b[38;5;241m=\u001b[39m \u001b[38;5;28mlen\u001b[39m(unique_nodes)\n\u001b[1;32m----> 5\u001b[0m adj_G \u001b[38;5;241m=\u001b[39m \u001b[43mnx\u001b[49m\u001b[38;5;241;43m.\u001b[39;49m\u001b[43mto_numpy_matrix\u001b[49m(G, nodelist \u001b[38;5;241m=\u001b[39m num_unique_nodes)\n",
      "\u001b[1;31mAttributeError\u001b[0m: module 'networkx' has no attribute 'to_numpy_matrix'"
     ]
    }
   ],
   "source": [
    "unique_nodes = pd.unique(pd.concat([df['source'], df['target']]))\n",
    "num_unique_nodes = len(unique_nodes)\n",
    "\n",
    "adj_G = nx.to_numpy_matrix(G, nodelist = num_unique_nodes)\n"
   ]
  },
  {
   "cell_type": "code",
   "execution_count": null,
   "id": "b7c147a0",
   "metadata": {},
   "outputs": [],
   "source": []
  }
 ],
 "metadata": {
  "kernelspec": {
   "display_name": "Python 3 (ipykernel)",
   "language": "python",
   "name": "python3"
  },
  "language_info": {
   "codemirror_mode": {
    "name": "ipython",
    "version": 3
   },
   "file_extension": ".py",
   "mimetype": "text/x-python",
   "name": "python",
   "nbconvert_exporter": "python",
   "pygments_lexer": "ipython3",
   "version": "3.11.5"
  }
 },
 "nbformat": 4,
 "nbformat_minor": 5
}
