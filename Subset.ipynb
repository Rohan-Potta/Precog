{
 "cells": [
  {
   "cell_type": "code",
   "execution_count": 1,
   "id": "c845b421",
   "metadata": {},
   "outputs": [
    {
     "name": "stdout",
     "output_type": "stream",
     "text": [
      "         source   target\n",
      "0       9907233  9301253\n",
      "1       9907233  9504304\n",
      "2       9907233  9505235\n",
      "3       9907233  9506257\n",
      "4       9907233  9606402\n",
      "...         ...      ...\n",
      "421573  9912461  9305269\n",
      "421574  9912461  9609445\n",
      "421575  9912461  9902379\n",
      "421576  9912461  9902403\n",
      "421577  9405397  9303299\n",
      "\n",
      "[421578 rows x 2 columns]\n"
     ]
    }
   ],
   "source": [
    "import pandas as pd\n",
    "\n",
    "# Specify the path to your dataset\n",
    "file_path = 'Cit-HepPh.txt'\n",
    "\n",
    "# Read the dataset into a DataFrame, skipping the first few comment lines\n",
    "df = pd.read_csv(file_path, delimiter='\\t', comment='#', header=None, names=['source', 'target'])\n",
    "\n",
    "# Display the DataFrame\n",
    "print(df)\n",
    "\n"
   ]
  },
  {
   "cell_type": "code",
   "execution_count": 2,
   "id": "74c0c7eb",
   "metadata": {},
   "outputs": [],
   "source": [
    "# df.to_csv('data.csv', index=False)"
   ]
  },
  {
   "cell_type": "code",
   "execution_count": 10,
   "id": "4b21ea8d",
   "metadata": {},
   "outputs": [
    {
     "name": "stdout",
     "output_type": "stream",
     "text": [
      "         source   target\n",
      "316499  9708374  9612376\n",
      "214995  9602378  9511385\n",
      "382515   203120  9703278\n",
      "307036   105027  9909250\n",
      "293431   211012   204202\n",
      "...         ...      ...\n",
      "87581    109221  9702281\n",
      "230468     7296  9501405\n",
      "332949  9711406  9509312\n",
      "157960   205027  9804290\n",
      "134122     6136  9506461\n",
      "\n",
      "[42158 rows x 2 columns]\n"
     ]
    }
   ],
   "source": [
    "import pandas as pd\n",
    "\n",
    "df_sample = pd.read_csv('data.csv')\n",
    "\n",
    "sampled_data = df_sample.sample(frac=0.10, random_state=42)\n",
    "\n",
    "print(sampled_data)\n"
   ]
  },
  {
   "cell_type": "code",
   "execution_count": 11,
   "id": "78dd7a69",
   "metadata": {},
   "outputs": [],
   "source": [
    "sampled_data.to_csv('data_sample_10.csv', index=False)\n"
   ]
  },
  {
   "cell_type": "code",
   "execution_count": null,
   "id": "cb0e2ddd",
   "metadata": {},
   "outputs": [],
   "source": []
  }
 ],
 "metadata": {
  "kernelspec": {
   "display_name": "Python 3 (ipykernel)",
   "language": "python",
   "name": "python3"
  },
  "language_info": {
   "codemirror_mode": {
    "name": "ipython",
    "version": 3
   },
   "file_extension": ".py",
   "mimetype": "text/x-python",
   "name": "python",
   "nbconvert_exporter": "python",
   "pygments_lexer": "ipython3",
   "version": "3.11.5"
  }
 },
 "nbformat": 4,
 "nbformat_minor": 5
}
